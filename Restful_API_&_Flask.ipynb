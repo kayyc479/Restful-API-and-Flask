{
  "nbformat": 4,
  "nbformat_minor": 0,
  "metadata": {
    "colab": {
      "provenance": []
    },
    "kernelspec": {
      "name": "python3",
      "display_name": "Python 3"
    },
    "language_info": {
      "name": "python"
    }
  },
  "cells": [
    {
      "cell_type": "markdown",
      "source": [
        "# 1. What is a RESTful API?\n",
        "\n",
        "-> A RESTful API is a web service that follows the principles of REST (Representational State Transfer). It allows communication between client and server using resources identified by unique URIs.\n",
        "\n",
        "It uses standard HTTP methods like GET, POST, PUT, and DELETE for CRUD operations. RESTful APIs are stateless, meaning each request is independent and carries all the necessary information."
      ],
      "metadata": {
        "id": "Gvkvpbk00LZF"
      }
    },
    {
      "cell_type": "markdown",
      "source": [
        "# 2.  Explain the concept of API specification.\n",
        "\n",
        "-> An API specification is a detailed document or standard that defines how an API should behave. It describes the available endpoints, request formats, response formats, and authentication methods.\n",
        "It acts as a contract between the client and server, ensuring consistent communication. Examples include OpenAPI/Swagger for RESTful APIs and WSDL for SOAP APIs."
      ],
      "metadata": {
        "id": "__GtRadx1TxE"
      }
    },
    {
      "cell_type": "markdown",
      "source": [
        "# 3. What is Flask, and why is it popular for building APIs?\n",
        "\n",
        "->  Flask is a lightweight, open-source Python web framework used to build web applications and APIs. It provides tools, libraries, and flexibility to develop applications quickly.\n",
        "It is popular for building APIs because it is simple, minimal, and easy to learn. Flask supports extensions, has strong community support, and is highly flexible for both small and large projects."
      ],
      "metadata": {
        "id": "UfGZlT1y1xll"
      }
    },
    {
      "cell_type": "markdown",
      "source": [
        "# 4. What is routing in Flask?\n",
        "\n",
        "-> Routing in Flask refers to the process of mapping a specific URL path to a function in the application. Each route is defined using the @app.route() decorator.\n",
        "\n",
        "It helps in handling different web requests. For example, /home can display a homepage, while /about can show details about the application."
      ],
      "metadata": {
        "id": "Q8eWjnRn2P6N"
      }
    },
    {
      "cell_type": "markdown",
      "source": [
        "# 5. How do you create a simple Flask application?\n",
        "\n",
        "-> To create a simple Flask application, first install Flask using pip install flask. Then, import Flask and create an app instance using app = Flask(__name__).\n",
        "\n",
        "Define a route with @app.route(\"/\") and a function that returns a response. Finally, run the app with app.run(). This starts a local server to access the application."
      ],
      "metadata": {
        "id": "7neXSH5y2yDE"
      }
    },
    {
      "cell_type": "markdown",
      "source": [
        "# 6. What are HTTP methods used in RESTful APIs?\n",
        "\n",
        "-> RESTful APIs use standard HTTP methods to perform operations on resources. The main methods are GET -> retrieve data, POST -> create new data, PUT/ PATCH -> update existing data, and DELETE -> remove data."
      ],
      "metadata": {
        "id": "24M47o_53YmM"
      }
    },
    {
      "cell_type": "markdown",
      "source": [
        "# 7. What is the purpose of the @app.route() decorator in Flask?\n",
        "\n",
        "-> The @app.route() decorator in Flask is used to bind a URL path to a specific function in the application.\n",
        "It defines what code should run when a user visits that URL, enabling request handling for different web pages or API endpoints."
      ],
      "metadata": {
        "id": "DBtej_Va4VI1"
      }
    },
    {
      "cell_type": "markdown",
      "source": [
        "# 8. What is the difference between GET and POST HTTP methods?\n",
        "\n",
        "-> The GET method is used to request data from a server. The data is sent through the URL and is visible in the browser.\n",
        "The POST method is used to send data to the server for creating or processing. The data is sent in the request body and is not visible in the URL."
      ],
      "metadata": {
        "id": "0D-LWTDh4lvK"
      }
    },
    {
      "cell_type": "markdown",
      "source": [
        "# 9. How do you handle errors in Flask APIs?\n",
        "\n",
        "-> In Flask APIs, errors can be handled using error handlers with the @app.errorhandler() decorator. You can specify the type of error, like 404 for Not Found or 500 for Internal Server Error.\n",
        "Inside the error handler function, you can return a custom response or JSON message to inform the client about the error, ensuring consistent and user-friendly error handling."
      ],
      "metadata": {
        "id": "YSM8qXH_49JE"
      }
    },
    {
      "cell_type": "markdown",
      "source": [
        "# 10. How do you connect Flask to a SQL database?\n",
        "\n",
        "-> To connect Flask to a SQL database, you can use extensions like Flask-SQLAlchemy. First, install it using pip install flask-sqlalchemy and configure the database URI in your Flask app. Then, create a SQLAlchemy object linked to the app and define models for your tables. You can perform database operations like insert, update, delete, and query through these models."
      ],
      "metadata": {
        "id": "ON8W9eBO5Sqo"
      }
    },
    {
      "cell_type": "markdown",
      "source": [
        "# 11. What is the role of Flask-SQLAlchemy?\n",
        "\n",
        "-> Flask-SQLAlchemy is an extension for Flask that simplifies working with SQL databases. It provides an Object Relational Mapper (ORM) to interact with the database using Python objects instead of raw SQL queries. It helps in defining database models, performing CRUD operations, and managing database connections efficiently, making database integration in Flask applications easier and more structured."
      ],
      "metadata": {
        "id": "IRl8bP1x5vss"
      }
    },
    {
      "cell_type": "markdown",
      "source": [
        "# 12. What are Flask blueprints, and how are they useful?\n",
        "\n",
        "-> Flask Blueprints are a way to organize a Flask application into smaller, reusable modules. Each blueprint can contain its own routes, templates, and static files. They are useful for structuring large applications, making the code modular, easier to maintain, and allowing multiple developers to work on different parts of the app simultaneously."
      ],
      "metadata": {
        "id": "5PeQkS2d6JT6"
      }
    },
    {
      "cell_type": "markdown",
      "source": [
        "# 13. What is the purpose of Flask's request object?\n",
        "\n",
        "-> In Flask, the request object is used to access data sent by the client in an HTTP request. This includes form data, query parameters, headers, and JSON payloads. It allows the server to read and process incoming data, making it essential for handling user input and building interactive APIs or web applications."
      ],
      "metadata": {
        "id": "QWqGSUyA6o1n"
      }
    },
    {
      "cell_type": "markdown",
      "source": [
        "# 14.  How do you create a RESTful API endpoint using Flask?\n",
        "\n",
        "-> To create a RESTful API endpoint in Flask, define a route using the @app.route() decorator and specify the HTTP methods (like GET, POST) it will handle.\n",
        "Inside the route function, process the request data using the request object and return a response, often in JSON format, using jsonify() for client communication."
      ],
      "metadata": {
        "id": "fn3w-spn7GUp"
      }
    },
    {
      "cell_type": "markdown",
      "source": [
        "# 15.  What is the purpose of Flask's jsonify() function?\n",
        "\n",
        "-> In Flask, the jsonify() function is used to convert Python dictionaries or lists into a JSON-formatted HTTP response.\n",
        "It sets the correct Content-Type header (application/json) automatically, making it easier to send structured data to clients in RESTful APIs."
      ],
      "metadata": {
        "id": "umGFou0v7SiK"
      }
    },
    {
      "cell_type": "markdown",
      "source": [
        "# 16. Explain Flask’s url_for() function.\n",
        "\n",
        "-> In Flask, the url_for() function is used to generate the URL for a specific function or route dynamically instead of hardcoding the URL.\n",
        "It ensures URLs remain consistent even if routes change, supports passing parameters, and helps in creating links between different parts of the application safely and efficiently."
      ],
      "metadata": {
        "id": "FDO_JGH07kdn"
      }
    },
    {
      "cell_type": "markdown",
      "source": [
        "# 17. How does Flask handle static files (CSS, JavaScript, etc.)?\n",
        "\n",
        "-> Flask handles static files like CSS, JavaScript, and images using a special folder named static. Files placed in this folder can be accessed via the /static/ URL path.\n",
        "\n",
        "You can reference these files in HTML templates using url_for('static', filename='path/to/file'), which ensures proper URL generation and easier management of static assets."
      ],
      "metadata": {
        "id": "qsYGdRRq77pT"
      }
    },
    {
      "cell_type": "markdown",
      "source": [
        "# 18. What is an API specification, and how does it help in building a Flask API?\n",
        "\n",
        "-> An API specification is a document that defines how an API should behave, including its endpoints, request and response formats, parameters, and authentication methods.\n",
        "\n",
        "It helps in building a Flask API by providing a clear blueprint, ensuring consistency, guiding development, and enabling easier collaboration between frontend and backend developers."
      ],
      "metadata": {
        "id": "1B6F4wUx8Mjx"
      }
    },
    {
      "cell_type": "markdown",
      "source": [
        "# 19.  What are HTTP status codes, and why are they important in a Flask API?\n",
        "\n",
        "-> HTTP status codes are numeric codes returned by a server to indicate the result of a client’s request, such as 200 for success, 404 for Not Found, or 500 for server errors.\n",
        "\n",
        "They are important in a Flask API because they inform the client about the outcome of the request, help in error handling, and improve communication between the client and server."
      ],
      "metadata": {
        "id": "DQnQyyN08dsa"
      }
    },
    {
      "cell_type": "markdown",
      "source": [
        "# 20. How do you handle POST requests in Flask?\n",
        "\n",
        "-> In Flask, POST requests are handled by defining a route with the @app.route() decorator and specifying methods=['POST'].\n",
        "\n",
        "Inside the route function, the request object is used to access submitted data (form data or JSON), which can then be processed, stored, or used to generate a response."
      ],
      "metadata": {
        "id": "6zbLlWWm8ujM"
      }
    },
    {
      "cell_type": "markdown",
      "source": [
        "# 21.  How would you secure a Flask API?\n",
        "\n",
        "-> To secure a Flask API, implement authentication methods like API keys, OAuth, or JWT (JSON Web Tokens) to ensure only authorized users can access the endpoints.\n",
        "\n",
        "Additionally, use HTTPS to encrypt data in transit, validate and sanitize input to prevent attacks, and apply proper error handling to avoid exposing sensitive information."
      ],
      "metadata": {
        "id": "yZFI2Gw89BzR"
      }
    },
    {
      "cell_type": "markdown",
      "source": [
        "# 22. What is the significance of the Flask-RESTful extension?\n",
        "\n",
        "-> Flask-RESTful is an extension for Flask that simplifies building RESTful APIs by providing tools like Resource classes and request parsing.\n",
        "\n",
        "It helps organize endpoints, handle HTTP methods cleanly, and manage responses in a structured way, making API development faster and more maintainable."
      ],
      "metadata": {
        "id": "Xc_ikZks9NlL"
      }
    },
    {
      "cell_type": "markdown",
      "source": [
        "# 23. What is the role of Flask’s session object?\n",
        "\n",
        "-> In Flask, the session object is used to store data specific to a user across multiple requests, like login information or user preferences.\n",
        "It keeps this data on the server (or securely in a cookie) so that the application can remember the user’s state between requests, enabling features like user authentication and personalized experiences."
      ],
      "metadata": {
        "id": "Alqi4IuW9rnx"
      }
    },
    {
      "cell_type": "markdown",
      "source": [
        "# PRACTICAL QUESTIONS"
      ],
      "metadata": {
        "id": "LG2XgYb79-ae"
      }
    },
    {
      "cell_type": "code",
      "source": [
        "#1.  How do you create a basic Flask application?\n",
        "\n",
        "# Step 1: Import Flask\n",
        "from flask import Flask, jsonify, request\n",
        "\n",
        "# Step 2: Create a Flask app instance\n",
        "app = Flask(__name__)\n",
        "\n",
        "# Step 3: Define a route for the home page\n",
        "@app.route('/')\n",
        "def home():\n",
        "    return \"Welcome to my Flask API!\"\n",
        "\n",
        "# Step 4: Define a simple API endpoint\n",
        "@app.route('/api/data', methods=['GET'])\n",
        "def get_data():\n",
        "    sample_data = {\"name\": \"Alice\", \"age\": 25}\n",
        "    return jsonify(sample_data)\n",
        "\n",
        "# Step 5: Run the app\n",
        "if __name__ == '__main__':\n",
        "    app.run(debug=True)\n"
      ],
      "metadata": {
        "colab": {
          "base_uri": "https://localhost:8080/"
        },
        "id": "cwpa-bnl-G8p",
        "outputId": "bc3fc7de-1a0a-4f82-adaa-d425a4a0867e"
      },
      "execution_count": null,
      "outputs": [
        {
          "output_type": "stream",
          "name": "stdout",
          "text": [
            " * Serving Flask app '__main__'\n",
            " * Debug mode: on\n"
          ]
        },
        {
          "output_type": "stream",
          "name": "stderr",
          "text": [
            "INFO:werkzeug:\u001b[31m\u001b[1mWARNING: This is a development server. Do not use it in a production deployment. Use a production WSGI server instead.\u001b[0m\n",
            " * Running on http://127.0.0.1:5000\n",
            "INFO:werkzeug:\u001b[33mPress CTRL+C to quit\u001b[0m\n",
            "INFO:werkzeug: * Restarting with watchdog (inotify)\n"
          ]
        }
      ]
    },
    {
      "cell_type": "code",
      "source": [
        "#2.  How do you serve static files like images or CSS in Flask?\n",
        "\n",
        "#n Flask, static files like images, CSS, and JavaScript are stored in a folder named static. Flask automatically serves files from this folder.\n",
        "\n",
        "#You can reference these files in HTML templates using url_for('static', filename='path/to/file'), which generates the correct URL to include them in your web pages.\n",
        "\n",
        "<link rel=\"stylesheet\" href=\"{{ url_for('static', filename='style.css') }}\">\n",
        "<img src=\"{{ url_for('static', filename='image.png') }}\" alt=\"Example Image\">\n"
      ],
      "metadata": {
        "id": "sP-fO01r-YUg"
      },
      "execution_count": null,
      "outputs": []
    },
    {
      "cell_type": "code",
      "source": [
        "#3. How do you define different routes with different HTTP methods in Flask?\n",
        "\n",
        "#n Flask, you define different routes using the @app.route() decorator and specify the allowed HTTP methods with the methods parameter.\n",
        "\n",
        "#For example, you can create a route that handles GET requests to fetch data and another that handles POST requests to submit data:\n",
        "\n",
        "@app.route('/data', methods=['GET'])\n",
        "def get_data():\n",
        "    return \"Fetching data\"\n",
        "\n",
        "@app.route('/data', methods=['POST'])\n",
        "def post_data():\n",
        "    return \"Submitting data\"\n"
      ],
      "metadata": {
        "id": "PZkiaVilF3Tx"
      },
      "execution_count": null,
      "outputs": []
    },
    {
      "cell_type": "code",
      "source": [
        "#4.  How do you render HTML templates in Flask?\n",
        "\n",
        "#In Flask, HTML templates are rendered using the render_template() function. Templates are stored in a folder named templates inside your project.\n",
        "\n",
        "#You call render_template('filename.html', variable=value) inside a route function to render the HTML page and pass dynamic data to it.\n",
        "\n",
        "#Example:\n",
        "\n",
        "from flask import Flask, render_template\n",
        "\n",
        "app = Flask(__name__)\n",
        "\n",
        "@app.route('/')\n",
        "def home():\n",
        "    return render_template('index.html', name=\"Alice\")\n",
        "\n",
        "if __name__ == '__main__':\n",
        "    app.run(debug=True)\n"
      ],
      "metadata": {
        "id": "k0dOOFPrGNAn"
      },
      "execution_count": null,
      "outputs": []
    },
    {
      "cell_type": "code",
      "source": [
        "#5. How can you generate URLs for routes in Flask using url_for?\n",
        "\n",
        "from flask import Flask, url_for\n",
        "\n",
        "app = Flask(__name__)\n",
        "\n",
        "@app.route('/user/<username>')\n",
        "def profile(username):\n",
        "    return f\"Profile: {username}\"\n",
        "\n",
        "with app.test_request_context():\n",
        "    print(url_for('profile', username='Alice'))\n",
        "    # Output: /user/Alice\n",
        "\n",
        "\n"
      ],
      "metadata": {
        "id": "Ixiu_10CHWiz"
      },
      "execution_count": null,
      "outputs": []
    },
    {
      "cell_type": "code",
      "source": [
        "#6.  How do you handle forms in Flask?\n",
        "\n",
        "#In Flask, forms are handled using HTML <form> elements and the request object to access submitted data. Forms can send data via GET or POST methods.\n",
        "\n",
        "#You use request.form to retrieve form fields in a POST request, process the data in your route function, and optionally render a response or redirect the user.\n",
        "\n",
        "from flask import Flask, request, render_template\n",
        "\n",
        "app = Flask(__name__)\n",
        "\n",
        "@app.route('/login', methods=['GET', 'POST'])\n",
        "def login():\n",
        "    if request.method == 'POST':\n",
        "        username = request.form['username']\n",
        "        password = request.form['password']\n",
        "        return f\"Logged in as {username}\"\n",
        "    return render_template('login.html')\n"
      ],
      "metadata": {
        "id": "-DztY-ZxHjXR"
      },
      "execution_count": null,
      "outputs": []
    },
    {
      "cell_type": "code",
      "source": [
        "#7. How can you validate form data in Flask?\n",
        "\n",
        "#In Flask, form data can be validated using the Flask-WTF extension or manually with the request object. Validation ensures that the submitted data meets required rules, like non-empty fields or correct formats.\n",
        "\n",
        "#Flask-WTF provides built-in validators (e.g., DataRequired, Email) and CSRF protection. For manual validation, you can check request.form values and return errors if data is missing or invalid.\n",
        "\n",
        "from flask import Flask, render_template\n",
        "from flask_wtf import FlaskForm\n",
        "from wtforms import StringField, SubmitField\n",
        "from wtforms.validators import DataRequired\n",
        "\n",
        "app = Flask(__name__)\n",
        "app.secret_key = 'secret'\n",
        "\n",
        "class MyForm(FlaskForm):\n",
        "    name = StringField('Name', validators=[DataRequired()])\n",
        "    submit = SubmitField('Submit')\n",
        "\n",
        "@app.route('/submit', methods=['GET', 'POST'])\n",
        "def submit():\n",
        "    form = MyForm()\n",
        "    if form.validate_on_submit():\n",
        "        return f\"Hello, {form.name.data}\"\n",
        "    return render_template('form.html', form=form)\n",
        "\n"
      ],
      "metadata": {
        "id": "vWoEfEQIH7-n"
      },
      "execution_count": null,
      "outputs": []
    },
    {
      "cell_type": "code",
      "source": [
        "#8.  How do you manage sessions in Flask?\n",
        "\n",
        "#In Flask, sessions are managed using the session object, which stores data specific to a user across multiple requests, such as login status or preferences.\n",
        "#You can set session data like session['key'] = value and retrieve it with session.get('key'). Flask signs session cookies to keep data secure, and you can clear sessions using session.pop() or session.clear().\n",
        "\n",
        "from flask import Flask, session\n",
        "\n",
        "app = Flask(__name__)\n",
        "app.secret_key = 'secret_key'\n",
        "\n",
        "@app.route('/login')\n",
        "def login():\n",
        "    session['user'] = 'Alice'\n",
        "    return \"User logged in\"\n",
        "\n",
        "@app.route('/logout')\n",
        "def logout():\n",
        "    session.pop('user', None)\n",
        "    return \"User logged out\"\n"
      ],
      "metadata": {
        "id": "1YGVm1cJIUvI"
      },
      "execution_count": null,
      "outputs": []
    },
    {
      "cell_type": "code",
      "source": [
        "#9.  How do you redirect to a different route in Flask?\n",
        "\n",
        "#In Flask, you can redirect to a different route using the redirect() function, often combined with url_for() to generate the route URL dynamically.This is useful after form submissions or login actions to send the user to another page.\n",
        "\n",
        "#Example:\n",
        "\n",
        "from flask import Flask, redirect, url_for\n",
        "\n",
        "app = Flask(__name__)\n",
        "\n",
        "@app.route('/')\n",
        "def home():\n",
        "    return \"Home Page\"\n",
        "\n",
        "@app.route('/go-to-home')\n",
        "def go_to_home():\n",
        "    return redirect(url_for('home'))\n"
      ],
      "metadata": {
        "id": "MUmIwcqqIrCC"
      },
      "execution_count": null,
      "outputs": []
    },
    {
      "cell_type": "code",
      "source": [
        "#10. How do you handle errors in Flask (e.g., 404)?\n",
        "\n",
        "#In Flask, errors like 404 Not Found can be handled using the @app.errorhandler() decorator. You specify the error code and define a function that returns a custom response.This allows you to provide user-friendly messages or JSON responses for APIs, improving the user experience and making error handling consistent.\n",
        "\n",
        "#Example:\n",
        "\n",
        "from flask import Flask, jsonify\n",
        "\n",
        "app = Flask(__name__)\n",
        "\n",
        "@app.errorhandler(404)\n",
        "def page_not_found(e):\n",
        "    return jsonify({\"error\": \"Page not found\"}), 404\n"
      ],
      "metadata": {
        "id": "xB464j8HJMsH"
      },
      "execution_count": null,
      "outputs": []
    },
    {
      "cell_type": "code",
      "source": [
        "#11. How do you structure a Flask app using Blueprints?\n",
        "\n",
        "#Flask Blueprints allow you to organize a large application into smaller, reusable modules. Each blueprint can have its own routes, templates, and static files. You create a blueprint using Blueprint('name', __name__), define routes in it, and register it with the main app using app.register_blueprint(). This makes the code modular and easier to maintain.\n",
        "\n",
        "# user.py (Blueprint)\n",
        "from flask import Blueprint\n",
        "\n",
        "user_bp = Blueprint('user', __name__)\n",
        "\n",
        "@user_bp.route('/profile')\n",
        "def profile():\n",
        "    return \"User Profile\"\n",
        "\n",
        "# app.py (Main app)\n",
        "from flask import Flask\n",
        "from user import user_bp\n",
        "\n",
        "app = Flask(__name__)\n",
        "app.register_blueprint(user_bp, url_prefix='/user')\n"
      ],
      "metadata": {
        "id": "tAOMajMIJoPf"
      },
      "execution_count": null,
      "outputs": []
    },
    {
      "cell_type": "code",
      "source": [
        "#12. How do you define a custom Jinja filter in Flask?\n",
        "\n",
        "#In Flask, you can define a custom Jinja filter to process data in templates by creating a Python function and registering it with app.template_filter().Once registered, the filter can be used in templates with the | pipe symbol to modify or format data dynamically.\n",
        "\n",
        "from flask import Flask, render_template\n",
        "\n",
        "app = Flask(__name__)\n",
        "\n",
        "# Define a custom filter\n",
        "@app.template_filter('reverse')\n",
        "def reverse_string(s):\n",
        "    return s[::-1]\n",
        "\n",
        "@app.route('/')\n",
        "def home():\n",
        "    name = \"Alice\"\n",
        "    return render_template('index.html', name=name)\n"
      ],
      "metadata": {
        "id": "cSQk8I4aJ-_E"
      },
      "execution_count": null,
      "outputs": []
    },
    {
      "cell_type": "code",
      "source": [
        "#13. How can you redirect with query parameters in Flask?\n",
        "\n",
        "#In Flask, you can redirect with query parameters by using the redirect() function along with url_for(), passing parameters as keyword arguments.These parameters are appended to the URL automatically, allowing the target route to access them via request.args.\n",
        "\n",
        "from flask import Flask, redirect, url_for, request\n",
        "\n",
        "app = Flask(__name__)\n",
        "\n",
        "@app.route('/search')\n",
        "def search():\n",
        "    query = request.args.get('q')\n",
        "    return f\"Search results for: {query}\"\n",
        "\n",
        "@app.route('/go-to-search')\n",
        "def go_to_search():\n",
        "    return redirect(url_for('search', q='Flask'))\n"
      ],
      "metadata": {
        "id": "BRiiBwAVKQbp"
      },
      "execution_count": null,
      "outputs": []
    },
    {
      "cell_type": "code",
      "source": [
        "#14. How do you return JSON responses in Flask?\n",
        "#In Flask, JSON responses can be returned using the jsonify() function, which converts Python dictionaries or lists into JSON format. jsonify() also sets the correct Content-Type header (application/json), making it ideal for building RESTful APIs.\n",
        "\n",
        "from flask import Flask, jsonify\n",
        "\n",
        "app = Flask(__name__)\n",
        "\n",
        "@app.route('/api/data')\n",
        "def get_data():\n",
        "    data = {\"name\": \"Alice\", \"age\": 25}\n",
        "    return jsonify(data)\n"
      ],
      "metadata": {
        "id": "qyZR6SVRKnAv"
      },
      "execution_count": null,
      "outputs": []
    },
    {
      "cell_type": "code",
      "source": [
        "#15.  How do you capture URL parameters in Flask?\n",
        "\n",
        "#In Flask, URL parameters can be captured by defining variable parts in the route using angle brackets < >. These values are passed as arguments to the route function, allowing you to access dynamic data from the URL.\n",
        "\n",
        "from flask import Flask\n",
        "\n",
        "app = Flask(__name__)\n",
        "\n",
        "@app.route('/user/<username>')\n",
        "def profile(username):\n",
        "    return f\"Profile of {username}\"\n",
        "\n",
        "@app.route('/post/<int:post_id>')\n",
        "def show_post(post_id):\n",
        "    return f\"Post ID: {post_id}\"\n"
      ],
      "metadata": {
        "id": "NZKCbDLyK9W6"
      },
      "execution_count": null,
      "outputs": []
    }
  ]
}